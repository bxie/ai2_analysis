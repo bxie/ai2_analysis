{
 "cells": [
  {
   "cell_type": "code",
   "execution_count": 2,
   "metadata": {
    "collapsed": true
   },
   "outputs": [],
   "source": [
    "import pandas as pd\n",
    "import re\n",
    "import time\n",
    "import os.path"
   ]
  },
  {
   "cell_type": "code",
   "execution_count": 3,
   "metadata": {
    "collapsed": false
   },
   "outputs": [],
   "source": [
    "#Extracts project and user names from properties files of projects\n",
    "#Doesn't change project names to all lowercase\n",
    "def parse_properties_same_name(inp):\n",
    "    lines = inp.split(\"\\n\") #split by line\n",
    "    names = lines[0].split(\".\") #split by dot\n",
    "    \n",
    "    output = {\"user_name\": names[1][3:],\n",
    "            \"project_name\": names[2].strip()}\n",
    "\n",
    "    return output\n",
    "\n",
    "#Helper function to conver camelCase to snake_case\n",
    "def convert(name):\n",
    "    s1 = re.sub('(.)([A-Z][a-z]+)', r'\\1_\\2', name)\n",
    "    return re.sub('([a-z0-9])([A-Z])', r'\\1_\\2', s1).lower()"
   ]
  },
  {
   "cell_type": "code",
   "execution_count": 4,
   "metadata": {
    "collapsed": false
   },
   "outputs": [
    {
     "name": "stdout",
     "output_type": "stream",
     "text": [
      "Loaded DF from omit/ProjectNamesRaw.csv\n"
     ]
    }
   ],
   "source": [
    "#Extracting project and usernames into df_names\n",
    "csv_name = 'omit/ProjectNamesRaw.csv'\n",
    "\n",
    "if os.path.isfile(csv_name):\n",
    "    df_names = pd.DataFrame.from_csv(csv_name)\n",
    "    print 'Loaded DF from ' + csv_name\n",
    "else:\n",
    "    #Get just (original) project names\n",
    "\n",
    "    data_dirs = glob.glob(\"/Users/bxie/Documents/ai2_projects/*\")\n",
    "    columns = ['id', 'project_name', 'user_name']\n",
    "    df_names = pd.DataFrame(columns=columns)\n",
    "\n",
    "    t0 = time.time()\n",
    "\n",
    "    #Number of projects to process\n",
    "    num_projects = 100\n",
    "\n",
    "    for my_dir in data_dirs:          \n",
    "    # for x in range(0,num_projects):\n",
    "    #     my_dir = data_dirs[x]\n",
    "        values = {} #dictionary of things to add to dataframe. key corresponds to column in df\n",
    "        prop = {}\n",
    "\n",
    "        values['id'] = str.split(my_dir, '/')[-1] #getting id of project from directory\n",
    "\n",
    "        #properties\n",
    "        dir_prop = glob.glob(my_dir+\"/project.properties\")\n",
    "        if(len(dir_prop)>0):\n",
    "            file_prop = open(dir_prop[0], 'r')\n",
    "            prop = parse_properties_same_name(file_prop.read())\n",
    "        else:\n",
    "            num_missing_prop+=1\n",
    "\n",
    "\n",
    "        values = dict(values.items() + prop.items())\n",
    "\n",
    "        df_names = df_names.append(values, ignore_index=True)\n",
    "\n",
    "    t1 = time.time()\n",
    "    delta = t1 - t0\n",
    "\n",
    "    print \"Execution Time: \" + str(delta) + \"sec (\" + str(delta/60) + \" min)\""
   ]
  },
  {
   "cell_type": "code",
   "execution_count": 6,
   "metadata": {
    "collapsed": false
   },
   "outputs": [
    {
     "data": {
      "text/plain": [
       "[['space', 'invaders'],\n",
       " ['draw'],\n",
       " ['flaggenerator'],\n",
       " ['paint', 'pot', 'random'],\n",
       " ['pongkeyur'],\n",
       " ['image'],\n",
       " ['app', 't'],\n",
       " ['zombie', 'locatoe'],\n",
       " ['hello', 'world'],\n",
       " ['spaceship'],\n",
       " ['voiceit'],\n",
       " ['ahmedmero'],\n",
       " ['aaaaa'],\n",
       " ['novo', 'aplicativo', 'copy'],\n",
       " ['hello', 'miaw', 'miaw'],\n",
       " ['pippo'],\n",
       " ['p'],\n",
       " ['retriever'],\n",
       " ['lists'],\n",
       " ['digital', 'doodle'],\n",
       " ['project', 'disha', 'linda'],\n",
       " ['dankalys'],\n",
       " ['dibujar'],\n",
       " ['paint', 'pot'],\n",
       " ['molemash'],\n",
       " ['aaa'],\n",
       " ['calculatrice', 'complexe'],\n",
       " ['map', 'it', 'displaying', 'locationsona', 'google', 'map'],\n",
       " ['mole', 'mash'],\n",
       " ['test', 'app'],\n",
       " ['getthe', 'gold'],\n",
       " ['t'],\n",
       " ['pieridis', 'museum', 'copy'],\n",
       " ['ping', 'pong'],\n",
       " ['talking', 'robot', 'copy'],\n",
       " ['footy', 'app'],\n",
       " ['piano'],\n",
       " ['zayed'],\n",
       " ['coin', 'flip', 'media', 'only', 'copy'],\n",
       " ['in', 'and', 'out', 'startdragndraw'],\n",
       " ['dontshakeme'],\n",
       " ['dexterity', 'new'],\n",
       " ['aaa'],\n",
       " ['bluttoth', 'conference'],\n",
       " ['whack', 'a', 'mole'],\n",
       " ['timer'],\n",
       " ['falling'],\n",
       " ['ball'],\n",
       " ['colora'],\n",
       " ['android', 'mash', 'project']]"
      ]
     },
     "execution_count": 6,
     "metadata": {},
     "output_type": "execute_result"
    }
   ],
   "source": [
    "#Attempting to split project names into different words \n",
    "#problems when words not camelCase or snake_case\n",
    "project_names_split =[]\n",
    "for name in df_names.project_name:\n",
    "    inp = ''.join([i for i in name if not i.isdigit()]) #removing numbers\n",
    "    lis = convert(inp).split(\"_\") #converting camelCase to snake_case, spliting by \"_\"\n",
    "    project_names_split.append(filter(None, lis)) #removing empty values\n",
    "\n",
    "#printing the first 10 values\n",
    "project_names_split[:10]"
   ]
  },
  {
   "cell_type": "code",
   "execution_count": null,
   "metadata": {
    "collapsed": true
   },
   "outputs": [],
   "source": []
  }
 ],
 "metadata": {
  "kernelspec": {
   "display_name": "Python 2",
   "language": "python",
   "name": "python2"
  },
  "language_info": {
   "codemirror_mode": {
    "name": "ipython",
    "version": 2
   },
   "file_extension": ".py",
   "mimetype": "text/x-python",
   "name": "python",
   "nbconvert_exporter": "python",
   "pygments_lexer": "ipython2",
   "version": "2.7.9"
  }
 },
 "nbformat": 4,
 "nbformat_minor": 0
}
